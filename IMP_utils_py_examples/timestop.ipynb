{
 "cells": [
  {
   "attachments": {},
   "cell_type": "markdown",
   "metadata": {},
   "source": [
    "# Example notebook for timestop and pandas"
   ]
  },
  {
   "attachments": {},
   "cell_type": "markdown",
   "metadata": {},
   "source": [
    "## library imports"
   ]
  },
  {
   "cell_type": "code",
   "execution_count": 1,
   "metadata": {},
   "outputs": [],
   "source": [
    "import numpy as np # math operations e.g. sqrt, matrix, arrays, pi\n",
    "import pandas as pd # dataframes"
   ]
  },
  {
   "attachments": {},
   "cell_type": "markdown",
   "metadata": {},
   "source": [
    "## open csv file"
   ]
  },
  {
   "cell_type": "code",
   "execution_count": 2,
   "metadata": {},
   "outputs": [],
   "source": [
    "df = pd.read_csv(\"../data/raw_data_timestop.csv\", index_col=0)"
   ]
  },
  {
   "attachments": {},
   "cell_type": "markdown",
   "metadata": {},
   "source": [
    "look into dataframe"
   ]
  },
  {
   "cell_type": "code",
   "execution_count": 3,
   "metadata": {},
   "outputs": [
    {
     "data": {
      "text/html": [
       "<div>\n",
       "<style scoped>\n",
       "    .dataframe tbody tr th:only-of-type {\n",
       "        vertical-align: middle;\n",
       "    }\n",
       "\n",
       "    .dataframe tbody tr th {\n",
       "        vertical-align: top;\n",
       "    }\n",
       "\n",
       "    .dataframe thead th {\n",
       "        text-align: right;\n",
       "    }\n",
       "</style>\n",
       "<table border=\"1\" class=\"dataframe\">\n",
       "  <thead>\n",
       "    <tr style=\"text-align: right;\">\n",
       "      <th></th>\n",
       "      <th>periods</th>\n",
       "      <th>half periods</th>\n",
       "      <th>half periods v2</th>\n",
       "    </tr>\n",
       "  </thead>\n",
       "  <tbody>\n",
       "    <tr>\n",
       "      <th>0</th>\n",
       "      <td>0.796932</td>\n",
       "      <td>1.660790</td>\n",
       "      <td>1.660790</td>\n",
       "    </tr>\n",
       "    <tr>\n",
       "      <th>1</th>\n",
       "      <td>0.863858</td>\n",
       "      <td>1.711094</td>\n",
       "      <td>1.712551</td>\n",
       "    </tr>\n",
       "    <tr>\n",
       "      <th>2</th>\n",
       "      <td>0.848693</td>\n",
       "      <td>1.720629</td>\n",
       "      <td>1.711094</td>\n",
       "    </tr>\n",
       "    <tr>\n",
       "      <th>3</th>\n",
       "      <td>0.862401</td>\n",
       "      <td>1.821119</td>\n",
       "      <td>1.686848</td>\n",
       "    </tr>\n",
       "    <tr>\n",
       "      <th>4</th>\n",
       "      <td>0.824447</td>\n",
       "      <td>NaN</td>\n",
       "      <td>1.720629</td>\n",
       "    </tr>\n",
       "    <tr>\n",
       "      <th>5</th>\n",
       "      <td>0.896182</td>\n",
       "      <td>NaN</td>\n",
       "      <td>1.795883</td>\n",
       "    </tr>\n",
       "    <tr>\n",
       "      <th>6</th>\n",
       "      <td>0.899701</td>\n",
       "      <td>NaN</td>\n",
       "      <td>1.821119</td>\n",
       "    </tr>\n",
       "    <tr>\n",
       "      <th>7</th>\n",
       "      <td>0.921418</td>\n",
       "      <td>NaN</td>\n",
       "      <td>1.751311</td>\n",
       "    </tr>\n",
       "    <tr>\n",
       "      <th>8</th>\n",
       "      <td>0.829893</td>\n",
       "      <td>NaN</td>\n",
       "      <td>NaN</td>\n",
       "    </tr>\n",
       "  </tbody>\n",
       "</table>\n",
       "</div>"
      ],
      "text/plain": [
       "    periods  half periods  half periods v2\n",
       "0  0.796932      1.660790         1.660790\n",
       "1  0.863858      1.711094         1.712551\n",
       "2  0.848693      1.720629         1.711094\n",
       "3  0.862401      1.821119         1.686848\n",
       "4  0.824447           NaN         1.720629\n",
       "5  0.896182           NaN         1.795883\n",
       "6  0.899701           NaN         1.821119\n",
       "7  0.921418           NaN         1.751311\n",
       "8  0.829893           NaN              NaN"
      ]
     },
     "execution_count": 3,
     "metadata": {},
     "output_type": "execute_result"
    }
   ],
   "source": [
    "df"
   ]
  },
  {
   "attachments": {},
   "cell_type": "markdown",
   "metadata": {},
   "source": [
    "get columns"
   ]
  },
  {
   "cell_type": "code",
   "execution_count": 4,
   "metadata": {},
   "outputs": [
    {
     "data": {
      "text/plain": [
       "Index(['periods', 'half periods', 'half periods v2'], dtype='object')"
      ]
     },
     "execution_count": 4,
     "metadata": {},
     "output_type": "execute_result"
    }
   ],
   "source": [
    "df.columns"
   ]
  },
  {
   "attachments": {},
   "cell_type": "markdown",
   "metadata": {},
   "source": [
    "select specific columns from dataframe"
   ]
  },
  {
   "cell_type": "code",
   "execution_count": 5,
   "metadata": {},
   "outputs": [
    {
     "data": {
      "text/html": [
       "<div>\n",
       "<style scoped>\n",
       "    .dataframe tbody tr th:only-of-type {\n",
       "        vertical-align: middle;\n",
       "    }\n",
       "\n",
       "    .dataframe tbody tr th {\n",
       "        vertical-align: top;\n",
       "    }\n",
       "\n",
       "    .dataframe thead th {\n",
       "        text-align: right;\n",
       "    }\n",
       "</style>\n",
       "<table border=\"1\" class=\"dataframe\">\n",
       "  <thead>\n",
       "    <tr style=\"text-align: right;\">\n",
       "      <th></th>\n",
       "      <th>half periods</th>\n",
       "      <th>periods</th>\n",
       "    </tr>\n",
       "  </thead>\n",
       "  <tbody>\n",
       "    <tr>\n",
       "      <th>0</th>\n",
       "      <td>1.660790</td>\n",
       "      <td>0.796932</td>\n",
       "    </tr>\n",
       "    <tr>\n",
       "      <th>1</th>\n",
       "      <td>1.711094</td>\n",
       "      <td>0.863858</td>\n",
       "    </tr>\n",
       "    <tr>\n",
       "      <th>2</th>\n",
       "      <td>1.720629</td>\n",
       "      <td>0.848693</td>\n",
       "    </tr>\n",
       "    <tr>\n",
       "      <th>3</th>\n",
       "      <td>1.821119</td>\n",
       "      <td>0.862401</td>\n",
       "    </tr>\n",
       "    <tr>\n",
       "      <th>4</th>\n",
       "      <td>NaN</td>\n",
       "      <td>0.824447</td>\n",
       "    </tr>\n",
       "    <tr>\n",
       "      <th>5</th>\n",
       "      <td>NaN</td>\n",
       "      <td>0.896182</td>\n",
       "    </tr>\n",
       "    <tr>\n",
       "      <th>6</th>\n",
       "      <td>NaN</td>\n",
       "      <td>0.899701</td>\n",
       "    </tr>\n",
       "    <tr>\n",
       "      <th>7</th>\n",
       "      <td>NaN</td>\n",
       "      <td>0.921418</td>\n",
       "    </tr>\n",
       "    <tr>\n",
       "      <th>8</th>\n",
       "      <td>NaN</td>\n",
       "      <td>0.829893</td>\n",
       "    </tr>\n",
       "  </tbody>\n",
       "</table>\n",
       "</div>"
      ],
      "text/plain": [
       "   half periods   periods\n",
       "0      1.660790  0.796932\n",
       "1      1.711094  0.863858\n",
       "2      1.720629  0.848693\n",
       "3      1.821119  0.862401\n",
       "4           NaN  0.824447\n",
       "5           NaN  0.896182\n",
       "6           NaN  0.899701\n",
       "7           NaN  0.921418\n",
       "8           NaN  0.829893"
      ]
     },
     "execution_count": 5,
     "metadata": {},
     "output_type": "execute_result"
    }
   ],
   "source": [
    "df[['half periods', 'periods']]"
   ]
  },
  {
   "attachments": {},
   "cell_type": "markdown",
   "metadata": {},
   "source": [
    "select column"
   ]
  },
  {
   "cell_type": "code",
   "execution_count": 6,
   "metadata": {},
   "outputs": [
    {
     "data": {
      "text/plain": [
       "0    0.796932\n",
       "1    0.863858\n",
       "2    0.848693\n",
       "3    0.862401\n",
       "4    0.824447\n",
       "5    0.896182\n",
       "6    0.899701\n",
       "7    0.921418\n",
       "8    0.829893\n",
       "Name: periods, dtype: float64"
      ]
     },
     "execution_count": 6,
     "metadata": {},
     "output_type": "execute_result"
    }
   ],
   "source": [
    "df[\"periods\"]"
   ]
  },
  {
   "attachments": {},
   "cell_type": "markdown",
   "metadata": {},
   "source": [
    "change index"
   ]
  },
  {
   "cell_type": "code",
   "execution_count": 7,
   "metadata": {},
   "outputs": [
    {
     "data": {
      "text/html": [
       "<div>\n",
       "<style scoped>\n",
       "    .dataframe tbody tr th:only-of-type {\n",
       "        vertical-align: middle;\n",
       "    }\n",
       "\n",
       "    .dataframe tbody tr th {\n",
       "        vertical-align: top;\n",
       "    }\n",
       "\n",
       "    .dataframe thead th {\n",
       "        text-align: right;\n",
       "    }\n",
       "</style>\n",
       "<table border=\"1\" class=\"dataframe\">\n",
       "  <thead>\n",
       "    <tr style=\"text-align: right;\">\n",
       "      <th></th>\n",
       "      <th>periods</th>\n",
       "      <th>half periods</th>\n",
       "      <th>half periods v2</th>\n",
       "    </tr>\n",
       "  </thead>\n",
       "  <tbody>\n",
       "    <tr>\n",
       "      <th>1</th>\n",
       "      <td>0.796932</td>\n",
       "      <td>1.660790</td>\n",
       "      <td>1.660790</td>\n",
       "    </tr>\n",
       "    <tr>\n",
       "      <th>2</th>\n",
       "      <td>0.863858</td>\n",
       "      <td>1.711094</td>\n",
       "      <td>1.712551</td>\n",
       "    </tr>\n",
       "    <tr>\n",
       "      <th>3</th>\n",
       "      <td>0.848693</td>\n",
       "      <td>1.720629</td>\n",
       "      <td>1.711094</td>\n",
       "    </tr>\n",
       "    <tr>\n",
       "      <th>4</th>\n",
       "      <td>0.862401</td>\n",
       "      <td>1.821119</td>\n",
       "      <td>1.686848</td>\n",
       "    </tr>\n",
       "    <tr>\n",
       "      <th>5</th>\n",
       "      <td>0.824447</td>\n",
       "      <td>NaN</td>\n",
       "      <td>1.720629</td>\n",
       "    </tr>\n",
       "    <tr>\n",
       "      <th>6</th>\n",
       "      <td>0.896182</td>\n",
       "      <td>NaN</td>\n",
       "      <td>1.795883</td>\n",
       "    </tr>\n",
       "    <tr>\n",
       "      <th>7</th>\n",
       "      <td>0.899701</td>\n",
       "      <td>NaN</td>\n",
       "      <td>1.821119</td>\n",
       "    </tr>\n",
       "    <tr>\n",
       "      <th>8</th>\n",
       "      <td>0.921418</td>\n",
       "      <td>NaN</td>\n",
       "      <td>1.751311</td>\n",
       "    </tr>\n",
       "    <tr>\n",
       "      <th>9</th>\n",
       "      <td>0.829893</td>\n",
       "      <td>NaN</td>\n",
       "      <td>NaN</td>\n",
       "    </tr>\n",
       "  </tbody>\n",
       "</table>\n",
       "</div>"
      ],
      "text/plain": [
       "    periods  half periods  half periods v2\n",
       "1  0.796932      1.660790         1.660790\n",
       "2  0.863858      1.711094         1.712551\n",
       "3  0.848693      1.720629         1.711094\n",
       "4  0.862401      1.821119         1.686848\n",
       "5  0.824447           NaN         1.720629\n",
       "6  0.896182           NaN         1.795883\n",
       "7  0.899701           NaN         1.821119\n",
       "8  0.921418           NaN         1.751311\n",
       "9  0.829893           NaN              NaN"
      ]
     },
     "execution_count": 7,
     "metadata": {},
     "output_type": "execute_result"
    }
   ],
   "source": [
    "df.index += 1\n",
    "df"
   ]
  },
  {
   "attachments": {},
   "cell_type": "markdown",
   "metadata": {},
   "source": [
    "create new column"
   ]
  },
  {
   "cell_type": "code",
   "execution_count": 8,
   "metadata": {},
   "outputs": [
    {
     "data": {
      "text/html": [
       "<div>\n",
       "<style scoped>\n",
       "    .dataframe tbody tr th:only-of-type {\n",
       "        vertical-align: middle;\n",
       "    }\n",
       "\n",
       "    .dataframe tbody tr th {\n",
       "        vertical-align: top;\n",
       "    }\n",
       "\n",
       "    .dataframe thead th {\n",
       "        text-align: right;\n",
       "    }\n",
       "</style>\n",
       "<table border=\"1\" class=\"dataframe\">\n",
       "  <thead>\n",
       "    <tr style=\"text-align: right;\">\n",
       "      <th></th>\n",
       "      <th>periods</th>\n",
       "      <th>half periods</th>\n",
       "      <th>half periods v2</th>\n",
       "      <th>random values</th>\n",
       "    </tr>\n",
       "  </thead>\n",
       "  <tbody>\n",
       "    <tr>\n",
       "      <th>1</th>\n",
       "      <td>0.796932</td>\n",
       "      <td>1.660790</td>\n",
       "      <td>1.660790</td>\n",
       "      <td>1</td>\n",
       "    </tr>\n",
       "    <tr>\n",
       "      <th>2</th>\n",
       "      <td>0.863858</td>\n",
       "      <td>1.711094</td>\n",
       "      <td>1.712551</td>\n",
       "      <td>3</td>\n",
       "    </tr>\n",
       "    <tr>\n",
       "      <th>3</th>\n",
       "      <td>0.848693</td>\n",
       "      <td>1.720629</td>\n",
       "      <td>1.711094</td>\n",
       "      <td>2</td>\n",
       "    </tr>\n",
       "    <tr>\n",
       "      <th>4</th>\n",
       "      <td>0.862401</td>\n",
       "      <td>1.821119</td>\n",
       "      <td>1.686848</td>\n",
       "      <td>45</td>\n",
       "    </tr>\n",
       "    <tr>\n",
       "      <th>5</th>\n",
       "      <td>0.824447</td>\n",
       "      <td>NaN</td>\n",
       "      <td>1.720629</td>\n",
       "      <td>2</td>\n",
       "    </tr>\n",
       "    <tr>\n",
       "      <th>6</th>\n",
       "      <td>0.896182</td>\n",
       "      <td>NaN</td>\n",
       "      <td>1.795883</td>\n",
       "      <td>3</td>\n",
       "    </tr>\n",
       "    <tr>\n",
       "      <th>7</th>\n",
       "      <td>0.899701</td>\n",
       "      <td>NaN</td>\n",
       "      <td>1.821119</td>\n",
       "      <td>2</td>\n",
       "    </tr>\n",
       "    <tr>\n",
       "      <th>8</th>\n",
       "      <td>0.921418</td>\n",
       "      <td>NaN</td>\n",
       "      <td>1.751311</td>\n",
       "      <td>3</td>\n",
       "    </tr>\n",
       "    <tr>\n",
       "      <th>9</th>\n",
       "      <td>0.829893</td>\n",
       "      <td>NaN</td>\n",
       "      <td>NaN</td>\n",
       "      <td>1</td>\n",
       "    </tr>\n",
       "  </tbody>\n",
       "</table>\n",
       "</div>"
      ],
      "text/plain": [
       "    periods  half periods  half periods v2  random values\n",
       "1  0.796932      1.660790         1.660790              1\n",
       "2  0.863858      1.711094         1.712551              3\n",
       "3  0.848693      1.720629         1.711094              2\n",
       "4  0.862401      1.821119         1.686848             45\n",
       "5  0.824447           NaN         1.720629              2\n",
       "6  0.896182           NaN         1.795883              3\n",
       "7  0.899701           NaN         1.821119              2\n",
       "8  0.921418           NaN         1.751311              3\n",
       "9  0.829893           NaN              NaN              1"
      ]
     },
     "execution_count": 8,
     "metadata": {},
     "output_type": "execute_result"
    }
   ],
   "source": [
    "df[\"random values\"] = [1,3,2,45,2,3,2,3,1]\n",
    "df"
   ]
  },
  {
   "attachments": {},
   "cell_type": "markdown",
   "metadata": {},
   "source": [
    "rename column"
   ]
  },
  {
   "cell_type": "code",
   "execution_count": 9,
   "metadata": {},
   "outputs": [
    {
     "data": {
      "text/html": [
       "<div>\n",
       "<style scoped>\n",
       "    .dataframe tbody tr th:only-of-type {\n",
       "        vertical-align: middle;\n",
       "    }\n",
       "\n",
       "    .dataframe tbody tr th {\n",
       "        vertical-align: top;\n",
       "    }\n",
       "\n",
       "    .dataframe thead th {\n",
       "        text-align: right;\n",
       "    }\n",
       "</style>\n",
       "<table border=\"1\" class=\"dataframe\">\n",
       "  <thead>\n",
       "    <tr style=\"text-align: right;\">\n",
       "      <th></th>\n",
       "      <th>periods</th>\n",
       "      <th>half periods</th>\n",
       "      <th>half periods v2</th>\n",
       "      <th>crazy stuff</th>\n",
       "    </tr>\n",
       "  </thead>\n",
       "  <tbody>\n",
       "    <tr>\n",
       "      <th>1</th>\n",
       "      <td>0.796932</td>\n",
       "      <td>1.660790</td>\n",
       "      <td>1.660790</td>\n",
       "      <td>1</td>\n",
       "    </tr>\n",
       "    <tr>\n",
       "      <th>2</th>\n",
       "      <td>0.863858</td>\n",
       "      <td>1.711094</td>\n",
       "      <td>1.712551</td>\n",
       "      <td>3</td>\n",
       "    </tr>\n",
       "    <tr>\n",
       "      <th>3</th>\n",
       "      <td>0.848693</td>\n",
       "      <td>1.720629</td>\n",
       "      <td>1.711094</td>\n",
       "      <td>2</td>\n",
       "    </tr>\n",
       "    <tr>\n",
       "      <th>4</th>\n",
       "      <td>0.862401</td>\n",
       "      <td>1.821119</td>\n",
       "      <td>1.686848</td>\n",
       "      <td>45</td>\n",
       "    </tr>\n",
       "    <tr>\n",
       "      <th>5</th>\n",
       "      <td>0.824447</td>\n",
       "      <td>NaN</td>\n",
       "      <td>1.720629</td>\n",
       "      <td>2</td>\n",
       "    </tr>\n",
       "    <tr>\n",
       "      <th>6</th>\n",
       "      <td>0.896182</td>\n",
       "      <td>NaN</td>\n",
       "      <td>1.795883</td>\n",
       "      <td>3</td>\n",
       "    </tr>\n",
       "    <tr>\n",
       "      <th>7</th>\n",
       "      <td>0.899701</td>\n",
       "      <td>NaN</td>\n",
       "      <td>1.821119</td>\n",
       "      <td>2</td>\n",
       "    </tr>\n",
       "    <tr>\n",
       "      <th>8</th>\n",
       "      <td>0.921418</td>\n",
       "      <td>NaN</td>\n",
       "      <td>1.751311</td>\n",
       "      <td>3</td>\n",
       "    </tr>\n",
       "    <tr>\n",
       "      <th>9</th>\n",
       "      <td>0.829893</td>\n",
       "      <td>NaN</td>\n",
       "      <td>NaN</td>\n",
       "      <td>1</td>\n",
       "    </tr>\n",
       "  </tbody>\n",
       "</table>\n",
       "</div>"
      ],
      "text/plain": [
       "    periods  half periods  half periods v2  crazy stuff\n",
       "1  0.796932      1.660790         1.660790            1\n",
       "2  0.863858      1.711094         1.712551            3\n",
       "3  0.848693      1.720629         1.711094            2\n",
       "4  0.862401      1.821119         1.686848           45\n",
       "5  0.824447           NaN         1.720629            2\n",
       "6  0.896182           NaN         1.795883            3\n",
       "7  0.899701           NaN         1.821119            2\n",
       "8  0.921418           NaN         1.751311            3\n",
       "9  0.829893           NaN              NaN            1"
      ]
     },
     "execution_count": 9,
     "metadata": {},
     "output_type": "execute_result"
    }
   ],
   "source": [
    "df.rename(columns={\"random values\": \"crazy stuff\"}, inplace=True)\n",
    "df"
   ]
  },
  {
   "attachments": {},
   "cell_type": "markdown",
   "metadata": {},
   "source": [
    "create new column from old column"
   ]
  },
  {
   "cell_type": "code",
   "execution_count": 10,
   "metadata": {},
   "outputs": [
    {
     "data": {
      "text/html": [
       "<div>\n",
       "<style scoped>\n",
       "    .dataframe tbody tr th:only-of-type {\n",
       "        vertical-align: middle;\n",
       "    }\n",
       "\n",
       "    .dataframe tbody tr th {\n",
       "        vertical-align: top;\n",
       "    }\n",
       "\n",
       "    .dataframe thead th {\n",
       "        text-align: right;\n",
       "    }\n",
       "</style>\n",
       "<table border=\"1\" class=\"dataframe\">\n",
       "  <thead>\n",
       "    <tr style=\"text-align: right;\">\n",
       "      <th></th>\n",
       "      <th>periods</th>\n",
       "      <th>half periods</th>\n",
       "      <th>half periods v2</th>\n",
       "      <th>crazy stuff</th>\n",
       "      <th>10 periods</th>\n",
       "    </tr>\n",
       "  </thead>\n",
       "  <tbody>\n",
       "    <tr>\n",
       "      <th>1</th>\n",
       "      <td>0.796932</td>\n",
       "      <td>1.660790</td>\n",
       "      <td>1.660790</td>\n",
       "      <td>1</td>\n",
       "      <td>7.969320</td>\n",
       "    </tr>\n",
       "    <tr>\n",
       "      <th>2</th>\n",
       "      <td>0.863858</td>\n",
       "      <td>1.711094</td>\n",
       "      <td>1.712551</td>\n",
       "      <td>3</td>\n",
       "      <td>8.638577</td>\n",
       "    </tr>\n",
       "    <tr>\n",
       "      <th>3</th>\n",
       "      <td>0.848693</td>\n",
       "      <td>1.720629</td>\n",
       "      <td>1.711094</td>\n",
       "      <td>2</td>\n",
       "      <td>8.486929</td>\n",
       "    </tr>\n",
       "    <tr>\n",
       "      <th>4</th>\n",
       "      <td>0.862401</td>\n",
       "      <td>1.821119</td>\n",
       "      <td>1.686848</td>\n",
       "      <td>45</td>\n",
       "      <td>8.624012</td>\n",
       "    </tr>\n",
       "    <tr>\n",
       "      <th>5</th>\n",
       "      <td>0.824447</td>\n",
       "      <td>NaN</td>\n",
       "      <td>1.720629</td>\n",
       "      <td>2</td>\n",
       "      <td>8.244472</td>\n",
       "    </tr>\n",
       "    <tr>\n",
       "      <th>6</th>\n",
       "      <td>0.896182</td>\n",
       "      <td>NaN</td>\n",
       "      <td>1.795883</td>\n",
       "      <td>3</td>\n",
       "      <td>8.961818</td>\n",
       "    </tr>\n",
       "    <tr>\n",
       "      <th>7</th>\n",
       "      <td>0.899701</td>\n",
       "      <td>NaN</td>\n",
       "      <td>1.821119</td>\n",
       "      <td>2</td>\n",
       "      <td>8.997011</td>\n",
       "    </tr>\n",
       "    <tr>\n",
       "      <th>8</th>\n",
       "      <td>0.921418</td>\n",
       "      <td>NaN</td>\n",
       "      <td>1.751311</td>\n",
       "      <td>3</td>\n",
       "      <td>9.214180</td>\n",
       "    </tr>\n",
       "    <tr>\n",
       "      <th>9</th>\n",
       "      <td>0.829893</td>\n",
       "      <td>NaN</td>\n",
       "      <td>NaN</td>\n",
       "      <td>1</td>\n",
       "      <td>8.298931</td>\n",
       "    </tr>\n",
       "  </tbody>\n",
       "</table>\n",
       "</div>"
      ],
      "text/plain": [
       "    periods  half periods  half periods v2  crazy stuff  10 periods\n",
       "1  0.796932      1.660790         1.660790            1    7.969320\n",
       "2  0.863858      1.711094         1.712551            3    8.638577\n",
       "3  0.848693      1.720629         1.711094            2    8.486929\n",
       "4  0.862401      1.821119         1.686848           45    8.624012\n",
       "5  0.824447           NaN         1.720629            2    8.244472\n",
       "6  0.896182           NaN         1.795883            3    8.961818\n",
       "7  0.899701           NaN         1.821119            2    8.997011\n",
       "8  0.921418           NaN         1.751311            3    9.214180\n",
       "9  0.829893           NaN              NaN            1    8.298931"
      ]
     },
     "execution_count": 10,
     "metadata": {},
     "output_type": "execute_result"
    }
   ],
   "source": [
    "df[\"10 periods\"] = df[\"periods\"]*10\n",
    "df"
   ]
  },
  {
   "attachments": {},
   "cell_type": "markdown",
   "metadata": {},
   "source": [
    "## create dataframe"
   ]
  },
  {
   "attachments": {},
   "cell_type": "markdown",
   "metadata": {},
   "source": [
    "data"
   ]
  },
  {
   "cell_type": "code",
   "execution_count": 11,
   "metadata": {},
   "outputs": [],
   "source": [
    "amplitude = [5, 10, 15, 20, 30, 45]\n",
    "ten_periods = [30.13033652305603, 30.172121739387514, 30.212882733345033, 30.251499509811403, 30.293308448791503, 30.50780780315399]"
   ]
  },
  {
   "attachments": {},
   "cell_type": "markdown",
   "metadata": {},
   "source": [
    "manipulate data and create new data"
   ]
  },
  {
   "cell_type": "code",
   "execution_count": 12,
   "metadata": {},
   "outputs": [
    {
     "name": "stdout",
     "output_type": "stream",
     "text": [
      "periods:  [3.013033652305603, 3.017212173938751, 3.0212882733345032, 3.0251499509811404, 3.0293308448791505, 3.050780780315399]\n",
      "normed periods:  [1.0, 1.0013868154542351, 1.002739637847252, 1.0040212955027124, 1.0054088982912874, 1.0125279476984639]\n"
     ]
    }
   ],
   "source": [
    "periods = [duration/10 for duration in ten_periods]\n",
    "print(\"periods: \", periods)\n",
    "normed_periods = [periods[idx]/periods[0] for idx in range(len(periods))]\n",
    "print(\"normed periods: \", normed_periods)"
   ]
  },
  {
   "attachments": {},
   "cell_type": "markdown",
   "metadata": {},
   "source": [
    "**Excursus:** list comprehensions"
   ]
  },
  {
   "cell_type": "code",
   "execution_count": 13,
   "metadata": {},
   "outputs": [
    {
     "name": "stdout",
     "output_type": "stream",
     "text": [
      "[0, 1, 2, 3, 4, 5, 6, 7, 8, 9]\n",
      "[0.0, 0.5, 1.0, 1.5, 2.0, 2.5, 3.0, 3.5, 4.0, 4.5]\n",
      "[0.0, 1.0, 2.0, 3.0, 4.0]\n",
      "[0.0, 1.0, 1.0, 1.7320508075688772, 2.0, 2.23606797749979, 3.0, 2.6457513110645907, 4.0, 3.0]\n"
     ]
    }
   ],
   "source": [
    "# create list with numbers\n",
    "list_number = list(range(10)) # you can add <start>, <stop>, <step> to range function\n",
    "print(list_number)\n",
    "\n",
    "# list created by for-loop from other list\n",
    "list_number_half = [num/2 for num in list_number]\n",
    "print(list_number_half)\n",
    "\n",
    "# list created by for-loop from other list only with certain elements\n",
    "list_number_only_even_half = [num/2 for num in list_number if num%2 == 0]\n",
    "print(list_number_only_even_half)\n",
    "\n",
    "# list created by for-loop from other list with different operations for elements\n",
    "list_number_even_half_odd_sqrt = [num/2 if num%2 == 0 else np.sqrt(num) for num in list_number]\n",
    "print(list_number_even_half_odd_sqrt)"
   ]
  },
  {
   "attachments": {},
   "cell_type": "markdown",
   "metadata": {},
   "source": [
    "create dataframe from dict"
   ]
  },
  {
   "cell_type": "code",
   "execution_count": 14,
   "metadata": {},
   "outputs": [
    {
     "data": {
      "text/html": [
       "<div>\n",
       "<style scoped>\n",
       "    .dataframe tbody tr th:only-of-type {\n",
       "        vertical-align: middle;\n",
       "    }\n",
       "\n",
       "    .dataframe tbody tr th {\n",
       "        vertical-align: top;\n",
       "    }\n",
       "\n",
       "    .dataframe thead th {\n",
       "        text-align: right;\n",
       "    }\n",
       "</style>\n",
       "<table border=\"1\" class=\"dataframe\">\n",
       "  <thead>\n",
       "    <tr style=\"text-align: right;\">\n",
       "      <th></th>\n",
       "      <th>amplitude</th>\n",
       "      <th>10 periods</th>\n",
       "      <th>periods</th>\n",
       "      <th>normed periods</th>\n",
       "    </tr>\n",
       "  </thead>\n",
       "  <tbody>\n",
       "    <tr>\n",
       "      <th>0</th>\n",
       "      <td>5</td>\n",
       "      <td>30.130337</td>\n",
       "      <td>3.013034</td>\n",
       "      <td>1.000000</td>\n",
       "    </tr>\n",
       "    <tr>\n",
       "      <th>1</th>\n",
       "      <td>10</td>\n",
       "      <td>30.172122</td>\n",
       "      <td>3.017212</td>\n",
       "      <td>1.001387</td>\n",
       "    </tr>\n",
       "    <tr>\n",
       "      <th>2</th>\n",
       "      <td>15</td>\n",
       "      <td>30.212883</td>\n",
       "      <td>3.021288</td>\n",
       "      <td>1.002740</td>\n",
       "    </tr>\n",
       "    <tr>\n",
       "      <th>3</th>\n",
       "      <td>20</td>\n",
       "      <td>30.251500</td>\n",
       "      <td>3.025150</td>\n",
       "      <td>1.004021</td>\n",
       "    </tr>\n",
       "    <tr>\n",
       "      <th>4</th>\n",
       "      <td>30</td>\n",
       "      <td>30.293308</td>\n",
       "      <td>3.029331</td>\n",
       "      <td>1.005409</td>\n",
       "    </tr>\n",
       "    <tr>\n",
       "      <th>5</th>\n",
       "      <td>45</td>\n",
       "      <td>30.507808</td>\n",
       "      <td>3.050781</td>\n",
       "      <td>1.012528</td>\n",
       "    </tr>\n",
       "  </tbody>\n",
       "</table>\n",
       "</div>"
      ],
      "text/plain": [
       "   amplitude  10 periods   periods  normed periods\n",
       "0          5   30.130337  3.013034        1.000000\n",
       "1         10   30.172122  3.017212        1.001387\n",
       "2         15   30.212883  3.021288        1.002740\n",
       "3         20   30.251500  3.025150        1.004021\n",
       "4         30   30.293308  3.029331        1.005409\n",
       "5         45   30.507808  3.050781        1.012528"
      ]
     },
     "execution_count": 14,
     "metadata": {},
     "output_type": "execute_result"
    }
   ],
   "source": [
    "data = {\n",
    "    \"amplitude\": amplitude,\n",
    "    \"10 periods\": ten_periods,\n",
    "    \"periods\": periods,\n",
    "    \"normed periods\": normed_periods,\n",
    "}\n",
    "df = pd.DataFrame(data)\n",
    "df"
   ]
  },
  {
   "attachments": {},
   "cell_type": "markdown",
   "metadata": {},
   "source": [
    "output dataframe for latex"
   ]
  },
  {
   "cell_type": "code",
   "execution_count": 15,
   "metadata": {},
   "outputs": [
    {
     "name": "stdout",
     "output_type": "stream",
     "text": [
      "\\begin{tabular}{lrrrr}\n",
      "\\toprule\n",
      "{} &  amplitude &  10 periods &   periods &  normed periods \\\\\n",
      "\\midrule\n",
      "0 &          5 &   30.130337 &  3.013034 &        1.000000 \\\\\n",
      "1 &         10 &   30.172122 &  3.017212 &        1.001387 \\\\\n",
      "2 &         15 &   30.212883 &  3.021288 &        1.002740 \\\\\n",
      "3 &         20 &   30.251500 &  3.025150 &        1.004021 \\\\\n",
      "4 &         30 &   30.293308 &  3.029331 &        1.005409 \\\\\n",
      "5 &         45 &   30.507808 &  3.050781 &        1.012528 \\\\\n",
      "\\bottomrule\n",
      "\\end{tabular}\n",
      "\n"
     ]
    },
    {
     "name": "stderr",
     "output_type": "stream",
     "text": [
      "/var/folders/v5/72f66vs1133dr6d7cfwwyxm40000gn/T/ipykernel_6638/2350534188.py:1: FutureWarning: In future versions `DataFrame.to_latex` is expected to utilise the base implementation of `Styler.to_latex` for formatting and rendering. The arguments signature may therefore change. It is recommended instead to use `DataFrame.style.to_latex` which also contains additional functionality.\n",
      "  print(df.to_latex())\n"
     ]
    }
   ],
   "source": [
    "print(df.to_latex())"
   ]
  },
  {
   "attachments": {},
   "cell_type": "markdown",
   "metadata": {},
   "source": [
    "save dataframe as csv"
   ]
  },
  {
   "cell_type": "code",
   "execution_count": 16,
   "metadata": {},
   "outputs": [],
   "source": [
    "df.to_csv(\"../data/timestop_notebook.csv\")"
   ]
  },
  {
   "cell_type": "code",
   "execution_count": null,
   "metadata": {},
   "outputs": [],
   "source": []
  }
 ],
 "metadata": {
  "kernelspec": {
   "display_name": "IMP",
   "language": "python",
   "name": "python3"
  },
  "language_info": {
   "codemirror_mode": {
    "name": "ipython",
    "version": 3
   },
   "file_extension": ".py",
   "mimetype": "text/x-python",
   "name": "python",
   "nbconvert_exporter": "python",
   "pygments_lexer": "ipython3",
   "version": "3.10.9"
  },
  "orig_nbformat": 4,
  "vscode": {
   "interpreter": {
    "hash": "4a7d4078f913da808e58ae5f5eb9fc341e73887df6709c38bbb536ff27495f29"
   }
  }
 },
 "nbformat": 4,
 "nbformat_minor": 2
}
